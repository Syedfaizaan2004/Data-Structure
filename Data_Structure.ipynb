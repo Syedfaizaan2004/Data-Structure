{
  "nbformat": 4,
  "nbformat_minor": 0,
  "metadata": {
    "colab": {
      "provenance": [],
      "authorship_tag": "ABX9TyOsQ7aHmxeeISYdMSiAOoPc",
      "include_colab_link": true
    },
    "kernelspec": {
      "name": "python3",
      "display_name": "Python 3"
    },
    "language_info": {
      "name": "python"
    }
  },
  "cells": [
    {
      "cell_type": "markdown",
      "metadata": {
        "id": "view-in-github",
        "colab_type": "text"
      },
      "source": [
        "<a href=\"https://colab.research.google.com/github/Syedfaizaan2004/Data-Structure/blob/main/Data_Structure.ipynb\" target=\"_parent\"><img src=\"https://colab.research.google.com/assets/colab-badge.svg\" alt=\"Open In Colab\"/></a>"
      ]
    },
    {
      "cell_type": "markdown",
      "source": [
        "# Data Structure Question"
      ],
      "metadata": {
        "id": "iP_4tt1SUwwc"
      }
    },
    {
      "cell_type": "markdown",
      "source": [
        "Q-1  What are data structures, and why are they important?\n",
        "\n",
        "Ans. Data structures are ways of organizing and storing data in a computer so that it can be accessed and modified efficiently. They define the layout and relationships between data elements and determine how algorithms interact with that data."
      ],
      "metadata": {
        "id": "j-bh1qisVCF3"
      }
    },
    {
      "cell_type": "markdown",
      "source": [
        "Q - 2 Explain the difference between mutable and immutable data types with examples.\n",
        "\n",
        "Ans. **Mutable** means changable. Data can be modified after it's created.\n",
        "\n",
        "**Immutable**  means unchangable. Once the data is created it can not be modified."
      ],
      "metadata": {
        "id": "FBqiYVxCVp7d"
      }
    },
    {
      "cell_type": "markdown",
      "source": [
        "Q - 3 What are the main differences between lists and tuples in Python?\n",
        "\n",
        "Ans. **List** are mutable, slower and require more memory than tuples\n",
        "\n",
        "**Tuples** are immutable, faster and require less memory than list."
      ],
      "metadata": {
        "id": "ddmkopPHWuay"
      }
    },
    {
      "cell_type": "markdown",
      "source": [
        "Q - 4 Describe how dictionaries store data?\n",
        "\n",
        "Ans. Dictionaries store data in key value pair. It's data is mutable.\n",
        "- example are student = {\"name\": \"Faizaan\", \"age\": 20}"
      ],
      "metadata": {
        "id": "1ubaDWzfbZ7A"
      }
    },
    {
      "cell_type": "markdown",
      "source": [
        "Q - 5 Why might you use a set instead of a list in Python?\n",
        "\n",
        "Ans. A set is a built-in data type in Python that stores unordered, unique elements. There are several situations where using a set is better than using a list. Sets only unique items allowed. List contain duplicate."
      ],
      "metadata": {
        "id": "9TeE06_BcXFR"
      }
    },
    {
      "cell_type": "markdown",
      "source": [
        "Q - 6 What is a string in Python, and how is it different from a list?\n",
        "\n",
        "Ans. A string in Python is a sequence of characters enclosed in single quotes ' ', double quotes \" \", or triple quotes ''' ''' / \"\"\" \"\"\".\n",
        "\n",
        "- String are immutable and list are mutable.\n",
        "- String are text processing and list are general purpose collection.\n",
        "- Modifying element are not allowed directly in String where modifying element are allowed."
      ],
      "metadata": {
        "id": "ffS_YmWYcxj9"
      }
    },
    {
      "cell_type": "markdown",
      "source": [
        "Q - 7 How do tuples ensure data integrity in Python?\n",
        "\n",
        "Ans. Tuples in Python help ensure data integrity by being immutable — meaning their contents cannot be changed after creation."
      ],
      "metadata": {
        "id": "tHMTMr9jerVG"
      }
    },
    {
      "cell_type": "markdown",
      "source": [
        "Q - 8 What is a hash table, and how does it relate to dictionaries in Python?\n",
        "\n",
        "Ans. A hash table is a data structure that stores key-value pairs using a hash function to compute an index, allowing fast access to data."
      ],
      "metadata": {
        "id": "1VMYmhUqfGr8"
      }
    },
    {
      "cell_type": "markdown",
      "source": [
        "Q - 9 Can lists contain different data types in Python?\n",
        "\n",
        "Ans. Python lists are heterogeneous, meaning they can store a mix of data types in a single list."
      ],
      "metadata": {
        "id": "LDIPwMkgfteJ"
      }
    },
    {
      "cell_type": "markdown",
      "source": [
        "Q - 10  Explain why strings are immutable in Python?\n",
        "\n",
        "Ans. Strings in Python are immutable, meaning you cannot change their contents after creation."
      ],
      "metadata": {
        "id": "jTwfbh5pgOuA"
      }
    },
    {
      "cell_type": "markdown",
      "source": [
        "Q - 11 What advantages do dictionaries offer over lists for certain tasks?\n",
        "\n",
        "Ans. Dictionaries are better than lists when you need to store and access data using a unique key, not just a position."
      ],
      "metadata": {
        "id": "qEdHLa_9gfn1"
      }
    },
    {
      "cell_type": "markdown",
      "source": [
        "Q - 12 Describe a scenario where using a tuple would be preferable over a list?\n",
        "\n",
        "Ans. tuple would be preferable over a list are:\n",
        "- Immutability: Prevents accidental changes to important fixed values.\n",
        "- Performance: Tuples are faster and use less memory than lists.\n",
        "- Hashable: Can be used as a key in dictionaries, unlike lists."
      ],
      "metadata": {
        "id": "x7bdIYcihAS6"
      }
    },
    {
      "cell_type": "markdown",
      "source": [
        "Q - 13  How do sets handle duplicate values in Python3\n",
        "\n",
        "Ans. sets automatically remove duplicate values.\n",
        "\n",
        "Sets are useful for:\n",
        "- Removing duplicates from lists\n",
        "- Fast membership checks (O(1) time)"
      ],
      "metadata": {
        "id": "RCwkCYkLjGkg"
      }
    },
    {
      "cell_type": "markdown",
      "source": [
        "Q - 14 How does the “in” keyword work differently for lists and dictionaries?\n",
        "\n",
        "Ans.\n",
        "- The in keyword checks if a value exists anywhere in the list.\n",
        "- The in keyword checks only for the presence of a key, not a value.\n"
      ],
      "metadata": {
        "id": "wrgA0opvjn4b"
      }
    },
    {
      "cell_type": "markdown",
      "source": [
        "Q - 15 Can you modify the elements of a tuple? Explain why or why not.\n",
        "\n",
        "Ans. No, We cannot modify the elements of a tuple in Python. Because tuples are immutable — once created, their contents cannot be changed."
      ],
      "metadata": {
        "id": "YG0M9d8okQBF"
      }
    },
    {
      "cell_type": "markdown",
      "source": [
        "Q - 16 What is a nested dictionary, and give an example of its use case?\n",
        "\n",
        "Ans. A nested dictionary is a dictionary inside another dictionary.\n",
        "It allows you to store hierarchical or structured data.\n",
        "- students = {\n",
        "    \"101\": {\"name\": \"Faizaan\", \"age\": 20, \"branch\": \"ECE\"},\n",
        "    \"102\": {\"name\": \"Aisha\", \"age\": 21, \"branch\": \"CSE\"}\n",
        "}"
      ],
      "metadata": {
        "id": "mrdlKxK8kob_"
      }
    },
    {
      "cell_type": "markdown",
      "source": [
        "Q - 17 Describe the time complexity of accessing elements in a dictionary?\n",
        "\n",
        "Ans. Accessing an element by key in a dictionary is on average:\n",
        "- O(1) — Constant time\n",
        "\n",
        "Worst Case\n",
        "- O(n) — if many keys hash to the same value\n"
      ],
      "metadata": {
        "id": "54l-fpdjk6iI"
      }
    },
    {
      "cell_type": "markdown",
      "source": [
        "Q - 18 In what situations are lists preferred over dictionaries?\n",
        "\n",
        "Ans. Lists are better than dictionaries when:\n",
        "- Order Matters\n",
        "- Data is Simple and Sequential\n",
        "- Index-Based Access"
      ],
      "metadata": {
        "id": "pw78SAvtlbyA"
      }
    },
    {
      "cell_type": "markdown",
      "source": [
        "Q - 19 Why are dictionaries considered unordered, and how does that affect data retrieval?\n",
        "\n",
        "Ans. dictionaries were unordered because they used hash tables without keeping track of the insertion order.\n",
        "- No index-based access like lists.\n",
        "- We must use keys to access values."
      ],
      "metadata": {
        "id": "cV9e_5gnl82H"
      }
    },
    {
      "cell_type": "markdown",
      "source": [
        "Q - 20 Explain the difference between a list and a dictionary in terms of data retrieval.\n",
        "\n",
        "Ans.\n",
        "- List can be accessed by index. where dictionary can be accessed by key value.\n",
        "- use case of list is ordered collection and use case of dictionary are key value mapping."
      ],
      "metadata": {
        "id": "i72zFjIemW5v"
      }
    },
    {
      "cell_type": "markdown",
      "source": [
        "# Practical Questions"
      ],
      "metadata": {
        "id": "lWZkHGWmnMz3"
      }
    },
    {
      "cell_type": "markdown",
      "source": [
        "Q - 1 Write a code to create a string with your name and print it?"
      ],
      "metadata": {
        "id": "UPNOHVtQnO8B"
      }
    },
    {
      "cell_type": "code",
      "source": [
        "name = \"Faizaan\"\n",
        "print(name)\n"
      ],
      "metadata": {
        "colab": {
          "base_uri": "https://localhost:8080/"
        },
        "id": "6N7VSes6nWWu",
        "outputId": "fe9de84b-ab66-470c-a2d3-cdd416e3ad3c"
      },
      "execution_count": 32,
      "outputs": [
        {
          "output_type": "stream",
          "name": "stdout",
          "text": [
            "Faizaan\n"
          ]
        }
      ]
    },
    {
      "cell_type": "markdown",
      "source": [
        "Q - 2 Write a code to find the length of the string \"Hello World\"?"
      ],
      "metadata": {
        "id": "QuzZLIxankYR"
      }
    },
    {
      "cell_type": "code",
      "source": [
        "text = \"Hello World\"\n",
        "print(len(text))\n"
      ],
      "metadata": {
        "colab": {
          "base_uri": "https://localhost:8080/"
        },
        "id": "Ud_zYd68nroj",
        "outputId": "c8a6d2e7-b445-46b8-a484-99935c9128ad"
      },
      "execution_count": 33,
      "outputs": [
        {
          "output_type": "stream",
          "name": "stdout",
          "text": [
            "11\n"
          ]
        }
      ]
    },
    {
      "cell_type": "markdown",
      "source": [
        "Q - 3 Write a code to slice the first 3 characters from the string \"Python Programming\"?"
      ],
      "metadata": {
        "id": "DDwNxuxLnvXe"
      }
    },
    {
      "cell_type": "code",
      "source": [
        "text = \"Python Programming\"\n",
        "print(text[:3])"
      ],
      "metadata": {
        "colab": {
          "base_uri": "https://localhost:8080/"
        },
        "id": "2QBw5Rxwnz-_",
        "outputId": "2e0bbb6b-babd-44a9-83b4-9f970887ce71"
      },
      "execution_count": 34,
      "outputs": [
        {
          "output_type": "stream",
          "name": "stdout",
          "text": [
            "Pyt\n"
          ]
        }
      ]
    },
    {
      "cell_type": "markdown",
      "source": [
        "Q - 4 Write a code to convert the string \"hello\" to uppercase?"
      ],
      "metadata": {
        "id": "cBs00ZQdn4wO"
      }
    },
    {
      "cell_type": "code",
      "source": [
        "word = \"hello\"\n",
        "print(word.upper())\n"
      ],
      "metadata": {
        "colab": {
          "base_uri": "https://localhost:8080/"
        },
        "id": "2KhzpTwgn9Mu",
        "outputId": "efe542f3-bf81-4bb6-bf0a-8a54f3edafd5"
      },
      "execution_count": 35,
      "outputs": [
        {
          "output_type": "stream",
          "name": "stdout",
          "text": [
            "HELLO\n"
          ]
        }
      ]
    },
    {
      "cell_type": "markdown",
      "source": [
        "Q - 5 Write a code to replace the word \"apple\" with \"orange\" in the string \"I like apple\"?"
      ],
      "metadata": {
        "id": "45hXS2tpoAx3"
      }
    },
    {
      "cell_type": "code",
      "source": [
        "sentence = \"I like apple\"\n",
        "print(sentence)\n",
        "print(sentence.replace(\"apple\", \"orange\"))\n"
      ],
      "metadata": {
        "colab": {
          "base_uri": "https://localhost:8080/"
        },
        "id": "w6v7fh7loFMq",
        "outputId": "fcee07fb-3db2-49be-8f50-8acc393fafa1"
      },
      "execution_count": 36,
      "outputs": [
        {
          "output_type": "stream",
          "name": "stdout",
          "text": [
            "I like apple\n",
            "I like orange\n"
          ]
        }
      ]
    },
    {
      "cell_type": "markdown",
      "source": [
        "Q - 6 Write a code to create a list with numbers 1 to 5 and print it?"
      ],
      "metadata": {
        "id": "JeIdMP0noPuu"
      }
    },
    {
      "cell_type": "code",
      "source": [
        "numbers = [1, 2, 3, 4, 5]\n",
        "print(numbers)"
      ],
      "metadata": {
        "colab": {
          "base_uri": "https://localhost:8080/"
        },
        "id": "OymPNRwpoVAo",
        "outputId": "c5b31d7c-41da-4a56-9f07-b79756bcd51d"
      },
      "execution_count": 37,
      "outputs": [
        {
          "output_type": "stream",
          "name": "stdout",
          "text": [
            "[1, 2, 3, 4, 5]\n"
          ]
        }
      ]
    },
    {
      "cell_type": "markdown",
      "source": [
        "Q - 7 Write a code to append the number 10 to the list [1, 2, 3, 4]?"
      ],
      "metadata": {
        "id": "bkew_ZRfoZjY"
      }
    },
    {
      "cell_type": "code",
      "source": [
        "my_list = [1, 2, 3, 4]\n",
        "my_list.append(10)\n",
        "print(my_list)\n"
      ],
      "metadata": {
        "colab": {
          "base_uri": "https://localhost:8080/"
        },
        "id": "NxNoo3xGod5s",
        "outputId": "cb8b3dc6-17db-476a-8ccd-8032072238b2"
      },
      "execution_count": 38,
      "outputs": [
        {
          "output_type": "stream",
          "name": "stdout",
          "text": [
            "[1, 2, 3, 4, 10]\n"
          ]
        }
      ]
    },
    {
      "cell_type": "markdown",
      "source": [
        "Q - 8 Write a code to remove the number 3 from the list [1, 2, 3, 4, 5]?"
      ],
      "metadata": {
        "id": "BwkII-h6ohu9"
      }
    },
    {
      "cell_type": "code",
      "source": [
        "numbers = [1, 2, 3, 4, 5]\n",
        "numbers.remove(3)\n",
        "print(numbers)\n"
      ],
      "metadata": {
        "colab": {
          "base_uri": "https://localhost:8080/"
        },
        "id": "CO7LkaUhonnx",
        "outputId": "7f4a71e5-1433-41cc-a38f-660195abc88f"
      },
      "execution_count": 39,
      "outputs": [
        {
          "output_type": "stream",
          "name": "stdout",
          "text": [
            "[1, 2, 4, 5]\n"
          ]
        }
      ]
    },
    {
      "cell_type": "markdown",
      "source": [
        "Q - 9 Write a code to access the second element in the list ['a', 'b', 'c', 'd']?"
      ],
      "metadata": {
        "id": "DuGeOVjdormr"
      }
    },
    {
      "cell_type": "code",
      "source": [
        "letters = ['a', 'b', 'c', 'd']\n",
        "print(letters[1])\n"
      ],
      "metadata": {
        "colab": {
          "base_uri": "https://localhost:8080/"
        },
        "id": "XoO8sKXco2YI",
        "outputId": "ca416990-8dfd-4fb6-bf7b-8941d0b96cf0"
      },
      "execution_count": 40,
      "outputs": [
        {
          "output_type": "stream",
          "name": "stdout",
          "text": [
            "b\n"
          ]
        }
      ]
    },
    {
      "cell_type": "markdown",
      "source": [
        "Q - 10 Write a code to reverse the list [10, 20, 30, 40, 50]."
      ],
      "metadata": {
        "id": "vtsApWOvo405"
      }
    },
    {
      "cell_type": "code",
      "source": [
        "nums = [10, 20, 30, 40, 50]\n",
        "nums.reverse()\n",
        "print(nums)\n"
      ],
      "metadata": {
        "colab": {
          "base_uri": "https://localhost:8080/"
        },
        "id": "gEa9qSaao83u",
        "outputId": "50d49785-b1b3-4d87-edb4-45ea614a118e"
      },
      "execution_count": 41,
      "outputs": [
        {
          "output_type": "stream",
          "name": "stdout",
          "text": [
            "[50, 40, 30, 20, 10]\n"
          ]
        }
      ]
    },
    {
      "cell_type": "markdown",
      "source": [
        "Q - 11 Write a code to create a tuple with the elements 100, 200, 300 and print it?"
      ],
      "metadata": {
        "id": "Z3RFLFfIpAaH"
      }
    },
    {
      "cell_type": "code",
      "source": [
        "my_tuple = (100, 200, 300)\n",
        "print(my_tuple)\n"
      ],
      "metadata": {
        "colab": {
          "base_uri": "https://localhost:8080/"
        },
        "id": "4_cQm6ZYpF9J",
        "outputId": "09f97364-6f16-4192-b59c-68a3262b0b3b"
      },
      "execution_count": 42,
      "outputs": [
        {
          "output_type": "stream",
          "name": "stdout",
          "text": [
            "(100, 200, 300)\n"
          ]
        }
      ]
    },
    {
      "cell_type": "markdown",
      "source": [
        "Q - 12  Write a code to access the second-to-last element of the tuple ('red', 'green', 'blue', 'yellow')."
      ],
      "metadata": {
        "id": "KekKPU32pKaJ"
      }
    },
    {
      "cell_type": "code",
      "source": [
        "colors = ('red', 'green', 'blue', 'yellow')\n",
        "print(colors[-2])\n"
      ],
      "metadata": {
        "colab": {
          "base_uri": "https://localhost:8080/"
        },
        "id": "ASxahBJhpOxR",
        "outputId": "fd725555-e980-4807-afbf-f8c20db9c6b3"
      },
      "execution_count": 43,
      "outputs": [
        {
          "output_type": "stream",
          "name": "stdout",
          "text": [
            "blue\n"
          ]
        }
      ]
    },
    {
      "cell_type": "markdown",
      "source": [
        "Q - 13 Write a code to find the minimum number in the tuple (10, 20, 5, 15)."
      ],
      "metadata": {
        "id": "ZaHxAQz1pSS-"
      }
    },
    {
      "cell_type": "code",
      "source": [
        "numbers = (10, 20, 5, 15)\n",
        "print(min(numbers))\n"
      ],
      "metadata": {
        "colab": {
          "base_uri": "https://localhost:8080/"
        },
        "id": "d9iL40UrpYA1",
        "outputId": "4a3f6da8-2fb1-47e6-e989-b8877be1fef2"
      },
      "execution_count": 44,
      "outputs": [
        {
          "output_type": "stream",
          "name": "stdout",
          "text": [
            "5\n"
          ]
        }
      ]
    },
    {
      "cell_type": "markdown",
      "source": [
        "Q - 14  Write a code to find the index of the element \"cat\" in the tuple ('dog', 'cat', 'rabbit')."
      ],
      "metadata": {
        "id": "VxE1lVSrpchl"
      }
    },
    {
      "cell_type": "code",
      "source": [
        "animals = ('dog', 'cat', 'rabbit')\n",
        "print(animals.index(\"cat\"))\n"
      ],
      "metadata": {
        "colab": {
          "base_uri": "https://localhost:8080/"
        },
        "id": "gDEhRfbOphxA",
        "outputId": "a79c1ec6-1266-46b6-8541-04b73db109cb"
      },
      "execution_count": 45,
      "outputs": [
        {
          "output_type": "stream",
          "name": "stdout",
          "text": [
            "1\n"
          ]
        }
      ]
    },
    {
      "cell_type": "markdown",
      "source": [
        "Q - 15  Write a code to create a tuple containing three different fruits and check if \"kiwi\" is in it."
      ],
      "metadata": {
        "id": "rI1-e1KOpl5v"
      }
    },
    {
      "cell_type": "code",
      "source": [
        "fruits = (\"apple\", \"banana\", \"orange\")\n",
        "if \"kiwi\" in fruits:\n",
        "    print(\"Kiwi is in the tuple.\")\n",
        "else:\n",
        "    print(\"Kiwi is not in the tuple.\")\n"
      ],
      "metadata": {
        "colab": {
          "base_uri": "https://localhost:8080/"
        },
        "id": "L21Yn7aMpqWl",
        "outputId": "ba70ffad-9d95-452e-849a-eaa879519ac1"
      },
      "execution_count": 46,
      "outputs": [
        {
          "output_type": "stream",
          "name": "stdout",
          "text": [
            "Kiwi is not in the tuple.\n"
          ]
        }
      ]
    },
    {
      "cell_type": "markdown",
      "source": [
        "Q - 16 Write a code to create a set with the elements 'a', 'b', 'c' and print it."
      ],
      "metadata": {
        "id": "dmfUvY0ZpxIn"
      }
    },
    {
      "cell_type": "code",
      "source": [
        "my_set = {'a', 'b', 'c'}\n",
        "print(my_set)\n"
      ],
      "metadata": {
        "colab": {
          "base_uri": "https://localhost:8080/"
        },
        "id": "wdcYPH5kp1Qz",
        "outputId": "628aa714-baed-422f-9b6c-4236bd388b9c"
      },
      "execution_count": 47,
      "outputs": [
        {
          "output_type": "stream",
          "name": "stdout",
          "text": [
            "{'c', 'a', 'b'}\n"
          ]
        }
      ]
    },
    {
      "cell_type": "markdown",
      "source": [
        "Q - 17 Write a code to clear all elements from the set {1, 2, 3, 4, 5}."
      ],
      "metadata": {
        "id": "9jcUfTQSp6Wm"
      }
    },
    {
      "cell_type": "code",
      "source": [
        "numbers = {1, 2, 3, 4, 5}\n",
        "numbers.clear()\n",
        "print(numbers)\n"
      ],
      "metadata": {
        "colab": {
          "base_uri": "https://localhost:8080/"
        },
        "id": "z_mhCK73qAEL",
        "outputId": "d5006c78-d3f5-4753-c6ea-c9c316e89674"
      },
      "execution_count": 48,
      "outputs": [
        {
          "output_type": "stream",
          "name": "stdout",
          "text": [
            "set()\n"
          ]
        }
      ]
    },
    {
      "cell_type": "markdown",
      "source": [
        "Q - 18  Write a code to remove the element 4 from the set {1, 2, 3, 4}."
      ],
      "metadata": {
        "id": "q-Z0G7E2qFAT"
      }
    },
    {
      "cell_type": "code",
      "source": [
        "my_set = {1, 2, 3, 4}\n",
        "my_set.remove(4)\n",
        "print(my_set)\n"
      ],
      "metadata": {
        "colab": {
          "base_uri": "https://localhost:8080/"
        },
        "id": "IupgeTDJqIgj",
        "outputId": "35c3eace-fcd4-49f9-c715-b9560fe3cab8"
      },
      "execution_count": 49,
      "outputs": [
        {
          "output_type": "stream",
          "name": "stdout",
          "text": [
            "{1, 2, 3}\n"
          ]
        }
      ]
    },
    {
      "cell_type": "markdown",
      "source": [
        "Q - 19 Write a code to find the union of two sets {1, 2, 3} and {3, 4, 5}."
      ],
      "metadata": {
        "id": "HFS9gCHOqNQg"
      }
    },
    {
      "cell_type": "code",
      "source": [
        "set1 = {1, 2, 3}\n",
        "set2 = {3, 4, 5}\n",
        "union_set = set1.union(set2)\n",
        "print(union_set)\n"
      ],
      "metadata": {
        "colab": {
          "base_uri": "https://localhost:8080/"
        },
        "id": "_0639lHtqRKq",
        "outputId": "aa1162f9-b0e3-4b12-e721-db4e9de54cab"
      },
      "execution_count": 50,
      "outputs": [
        {
          "output_type": "stream",
          "name": "stdout",
          "text": [
            "{1, 2, 3, 4, 5}\n"
          ]
        }
      ]
    },
    {
      "cell_type": "markdown",
      "source": [
        "Q - 20 Write a code to find the intersection of two sets {1, 2, 3} and {2, 3, 4}."
      ],
      "metadata": {
        "id": "qrayLefkqUq_"
      }
    },
    {
      "cell_type": "code",
      "source": [
        "set1 = {1, 2, 3}\n",
        "set2 = {2, 3, 4}\n",
        "intersection_set = set1.intersection(set2)\n",
        "print(intersection_set)\n"
      ],
      "metadata": {
        "colab": {
          "base_uri": "https://localhost:8080/"
        },
        "id": "KNGRJLPrqY_T",
        "outputId": "1550005b-e7e1-427b-83c0-bb57c3d2f548"
      },
      "execution_count": 51,
      "outputs": [
        {
          "output_type": "stream",
          "name": "stdout",
          "text": [
            "{2, 3}\n"
          ]
        }
      ]
    },
    {
      "cell_type": "markdown",
      "source": [
        "Q - 21 Write a code to create a dictionary with the keys \"name\", \"age\", and \"city\", and print it."
      ],
      "metadata": {
        "id": "U9xbHdDDqdwo"
      }
    },
    {
      "cell_type": "code",
      "source": [
        "person = {\"name\": \"Syed\", \"age\": 20, \"city\": \"New Delhi\"}\n",
        "print(person)\n"
      ],
      "metadata": {
        "colab": {
          "base_uri": "https://localhost:8080/"
        },
        "id": "COqW9Jfrqie7",
        "outputId": "6d7a7d2a-392a-4004-ca15-72c0885c8c39"
      },
      "execution_count": 52,
      "outputs": [
        {
          "output_type": "stream",
          "name": "stdout",
          "text": [
            "{'name': 'Syed', 'age': 20, 'city': 'New Delhi'}\n"
          ]
        }
      ]
    },
    {
      "cell_type": "markdown",
      "source": [
        "Q - 22 Write a code to add a new key-value pair \"country\": \"USA\" to the dictionary {'name': 'John', 'age': 25}."
      ],
      "metadata": {
        "id": "FsHUP6n7qwFj"
      }
    },
    {
      "cell_type": "code",
      "source": [
        "person = {'name': 'John', 'age': 25}\n",
        "person[\"country\"] = \"USA\"\n",
        "print(person)\n"
      ],
      "metadata": {
        "colab": {
          "base_uri": "https://localhost:8080/"
        },
        "id": "ThMw_hVpq0fH",
        "outputId": "0a424831-90bf-4180-b905-cfe90c6ef933"
      },
      "execution_count": 53,
      "outputs": [
        {
          "output_type": "stream",
          "name": "stdout",
          "text": [
            "{'name': 'John', 'age': 25, 'country': 'USA'}\n"
          ]
        }
      ]
    },
    {
      "cell_type": "markdown",
      "source": [
        "Q - 23 Write a code to access the value associated with the key \"name\" in the dictionary {'name': 'Alice', 'age': 30}."
      ],
      "metadata": {
        "id": "XNqK5JbnrDo4"
      }
    },
    {
      "cell_type": "code",
      "source": [
        "person = {'name': 'Alice', 'age': 30}\n",
        "print(person[\"name\"])\n"
      ],
      "metadata": {
        "colab": {
          "base_uri": "https://localhost:8080/"
        },
        "id": "mbG1288prHtb",
        "outputId": "f34cba10-3ebb-4d74-a3e6-b0319d3e5c01"
      },
      "execution_count": 54,
      "outputs": [
        {
          "output_type": "stream",
          "name": "stdout",
          "text": [
            "Alice\n"
          ]
        }
      ]
    },
    {
      "cell_type": "markdown",
      "source": [
        "Q - 24 Write a code to remove the key \"age\" from the dictionary {'name': 'Bob', 'age': 22, 'city': 'New York'}."
      ],
      "metadata": {
        "id": "eeaIFRBSrKea"
      }
    },
    {
      "cell_type": "code",
      "source": [
        "person = {'name': 'Bob', 'age': 22, 'city': 'New York'}\n",
        "del person[\"age\"]\n",
        "print(person)\n"
      ],
      "metadata": {
        "colab": {
          "base_uri": "https://localhost:8080/"
        },
        "id": "RM-ZiRzorQv0",
        "outputId": "d604e48a-33fc-406c-9e0f-3cac779f7c1b"
      },
      "execution_count": 55,
      "outputs": [
        {
          "output_type": "stream",
          "name": "stdout",
          "text": [
            "{'name': 'Bob', 'city': 'New York'}\n"
          ]
        }
      ]
    },
    {
      "cell_type": "markdown",
      "source": [
        "Q - 25  Write a code to check if the key \"city\" exists in the dictionary {'name': 'Alice', 'city': 'Paris'}."
      ],
      "metadata": {
        "id": "wSFIFkXmrUfl"
      }
    },
    {
      "cell_type": "code",
      "source": [
        "person = {'name': 'Alice', 'city': 'Paris'}\n",
        "if \"city\" in person:\n",
        "    print(\"Key 'city' exists.\")\n",
        "else:\n",
        "    print(\"Key 'city' does not exist.\")\n"
      ],
      "metadata": {
        "colab": {
          "base_uri": "https://localhost:8080/"
        },
        "id": "8z-XNsAJrZJH",
        "outputId": "b0a0af8c-f883-424f-ee9c-e848f5c6008e"
      },
      "execution_count": 56,
      "outputs": [
        {
          "output_type": "stream",
          "name": "stdout",
          "text": [
            "Key 'city' exists.\n"
          ]
        }
      ]
    },
    {
      "cell_type": "markdown",
      "source": [
        "Q - 26  Write a code to create a list, a tuple, and a dictionary, and print them all."
      ],
      "metadata": {
        "id": "KshqW2CqreBK"
      }
    },
    {
      "cell_type": "code",
      "source": [
        "my_list = [1, 2, 3]\n",
        "my_tuple = (4, 5, 6)\n",
        "my_dict = {\"a\": 1, \"b\": 2}\n",
        "print(my_list)\n",
        "print(my_tuple)\n",
        "print(my_dict)\n"
      ],
      "metadata": {
        "colab": {
          "base_uri": "https://localhost:8080/"
        },
        "id": "UsZNw87drceq",
        "outputId": "98687fd1-fa9f-4a50-c475-399fa5311898"
      },
      "execution_count": 57,
      "outputs": [
        {
          "output_type": "stream",
          "name": "stdout",
          "text": [
            "[1, 2, 3]\n",
            "(4, 5, 6)\n",
            "{'a': 1, 'b': 2}\n"
          ]
        }
      ]
    },
    {
      "cell_type": "markdown",
      "source": [
        "Q - 27  Write a code to create a list of 5 random numbers between 1 and 100, sort it in ascending order, and print the\n",
        "result.(replaced)"
      ],
      "metadata": {
        "id": "Xm3ipdGQrmcD"
      }
    },
    {
      "cell_type": "code",
      "source": [
        "import random\n",
        "numbers = random.sample(range(1, 101), 5)\n",
        "numbers.sort()\n",
        "print(numbers)\n"
      ],
      "metadata": {
        "colab": {
          "base_uri": "https://localhost:8080/"
        },
        "id": "q48mggBHrq6L",
        "outputId": "1a649f77-a156-4da6-9b9c-2a120990b105"
      },
      "execution_count": 58,
      "outputs": [
        {
          "output_type": "stream",
          "name": "stdout",
          "text": [
            "[5, 24, 33, 87, 89]\n"
          ]
        }
      ]
    },
    {
      "cell_type": "markdown",
      "source": [
        "Q - 28  Write a code to create a list with strings and print the element at the third index."
      ],
      "metadata": {
        "id": "3VixeecHrwn_"
      }
    },
    {
      "cell_type": "code",
      "source": [
        "words = [\"apple\", \"banana\", \"cherry\", \"date\", \"elderberry\"]\n",
        "print(words[3])\n"
      ],
      "metadata": {
        "colab": {
          "base_uri": "https://localhost:8080/"
        },
        "id": "6soz8sLWr1TQ",
        "outputId": "f006d7b0-ee57-4a87-80d7-55dab30c4d3f"
      },
      "execution_count": 59,
      "outputs": [
        {
          "output_type": "stream",
          "name": "stdout",
          "text": [
            "date\n"
          ]
        }
      ]
    },
    {
      "cell_type": "markdown",
      "source": [
        "Q - 29 Write a code to combine two dictionaries into one and print the result."
      ],
      "metadata": {
        "id": "W0egjLZSr70e"
      }
    },
    {
      "cell_type": "code",
      "source": [
        "dict1 = {\"a\": 1, \"b\": 2}\n",
        "dict2 = {\"c\": 3, \"d\": 4}\n",
        "combined = {**dict1, **dict2}\n",
        "print(combined)\n"
      ],
      "metadata": {
        "colab": {
          "base_uri": "https://localhost:8080/"
        },
        "id": "PRYHeH6fsCGy",
        "outputId": "83a910ee-24f4-4cc9-ea93-a7f006d565ab"
      },
      "execution_count": 60,
      "outputs": [
        {
          "output_type": "stream",
          "name": "stdout",
          "text": [
            "{'a': 1, 'b': 2, 'c': 3, 'd': 4}\n"
          ]
        }
      ]
    },
    {
      "cell_type": "markdown",
      "source": [
        "Q - 30 Write a code to convert a list of strings into a set."
      ],
      "metadata": {
        "id": "X4pBkekRsFii"
      }
    },
    {
      "cell_type": "code",
      "source": [
        "string_list = [\"apple\", \"banana\", \"apple\", \"cherry\"]\n",
        "string_set = set(string_list)\n",
        "print(string_set)\n"
      ],
      "metadata": {
        "colab": {
          "base_uri": "https://localhost:8080/"
        },
        "id": "r-Ks_xaNsKui",
        "outputId": "2297ab56-2a32-4445-83dc-a21c41ed2ef9"
      },
      "execution_count": 61,
      "outputs": [
        {
          "output_type": "stream",
          "name": "stdout",
          "text": [
            "{'apple', 'banana', 'cherry'}\n"
          ]
        }
      ]
    }
  ]
}